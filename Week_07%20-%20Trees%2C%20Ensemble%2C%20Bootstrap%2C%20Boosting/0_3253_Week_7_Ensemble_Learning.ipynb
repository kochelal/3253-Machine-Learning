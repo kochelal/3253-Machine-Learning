{
  "nbformat": 4,
  "nbformat_minor": 0,
  "metadata": {
    "colab": {
      "provenance": [],
      "gpuType": "T4",
      "authorship_tag": "ABX9TyNO+fEbeZs2RehOM83iENny",
      "include_colab_link": true
    },
    "kernelspec": {
      "name": "python3",
      "display_name": "Python 3"
    },
    "language_info": {
      "name": "python"
    },
    "accelerator": "GPU"
  },
  "cells": [
    {
      "cell_type": "markdown",
      "metadata": {
        "id": "view-in-github",
        "colab_type": "text"
      },
      "source": [
        "<a href=\"https://colab.research.google.com/github/saeid-uot/3253-Machine-Learning/blob/main/Week_07%2520-%2520Trees%252C%2520Ensemble%252C%2520Bootstrap%252C%2520Boosting/0_3253_Week_7_Ensemble_Learning.ipynb\" target=\"_parent\"><img src=\"https://colab.research.google.com/assets/colab-badge.svg\" alt=\"Open In Colab\"/></a>"
      ]
    },
    {
      "cell_type": "markdown",
      "source": [
        "#Objective:\n",
        "Below Python code aims to demonstrate the implementation and evaluation of various ensemble learning techniques, including Decision Tree, Random Forest, and Extra Trees classifiers, on a synthetic dataset.\n",
        "\n",
        "Step 1: Initially, the dataset is generated and balanced using the Synthetic Minority Over-sampling Technique (SMOTE).\n",
        "\n",
        "Steps that are omitted: There are several steps here, including description, visualization to better understand data, deal with outlier, missing values, scaling, etc etc. We skip them for the sake of simplicity for now\n",
        "\n",
        "Step 2: The dataset is split into training and testing sets.\n",
        "\n",
        "\n",
        "Step 3: Individual models are then trained and evaluated using metrics such as accuracy, precision, recall, F1 score, and area under the ROC curve (AUC).\n",
        "\n",
        "Step 4: Finally, the results from each model are aggregated into a tabular format for straightforward comparison, facilitating an understanding of the performance differences between the ensemble learning methods employed."
      ],
      "metadata": {
        "id": "sPyT6HkaavxF"
      }
    },
    {
      "cell_type": "markdown",
      "source": [
        "# Step 1: Loading Packages and Generate a dataset"
      ],
      "metadata": {
        "id": "hOfxydipbV1H"
      }
    },
    {
      "cell_type": "code",
      "source": [
        "# Step 1: Load dataset and balance the data using SMOTE\n",
        "from sklearn.datasets import make_classification\n",
        "from imblearn.over_sampling import SMOTE\n",
        "from sklearn.metrics import accuracy_score, precision_score, recall_score, f1_score, roc_auc_score, confusion_matrix\n",
        "\n",
        "# Generating a synthetic dataset\n",
        "# class_sep   default=1.0 The factor multiplying the hypercube size. Larger values spread out the clusters/classes and make the classification task easier.\n",
        "# Learning mode about make_classification here https://scikit-learn.org/stable/modules/generated/sklearn.datasets.make_classification.html\n",
        "\n",
        "X, y = make_classification(n_samples=5000, n_features=25,class_sep=0.01, n_classes=2, weights=[0.9, 0.1], random_state=42)\n",
        "\n",
        "# Balancing the dataset using SMOTE\n",
        "smote = SMOTE(random_state=42)\n",
        "X_resampled, y_resampled = smote.fit_resample(X, y)"
      ],
      "metadata": {
        "id": "tZAKQZCebTpu"
      },
      "execution_count": 1,
      "outputs": []
    },
    {
      "cell_type": "markdown",
      "source": [
        "# Step 2: Split the dataset"
      ],
      "metadata": {
        "id": "FCvzJu_NbVHC"
      }
    },
    {
      "cell_type": "code",
      "source": [
        "\n",
        "# Step 2: Split the dataset into train and test sets\n",
        "from sklearn.model_selection import train_test_split\n",
        "\n",
        "X_train, X_test, y_train, y_test = train_test_split(X_resampled, y_resampled, test_size=0.2, random_state=42)\n",
        "\n",
        "#Clean memory up to ensure it won't slow down your work!\n",
        "del X_resampled,y_resampled"
      ],
      "metadata": {
        "id": "tdsbel1fbmlU"
      },
      "execution_count": 2,
      "outputs": []
    },
    {
      "cell_type": "markdown",
      "source": [
        "# Step 3A - Train and Evaluate a **Decision Tree**"
      ],
      "metadata": {
        "id": "pI4x0WhUbnKi"
      }
    },
    {
      "cell_type": "code",
      "source": [
        "# Step 3: Build and evaluate the Decision Tree model\n",
        "from sklearn.tree import DecisionTreeClassifier\n",
        "\n",
        "# Decision Tree\n",
        "dt_clf = DecisionTreeClassifier(random_state=42)\n",
        "dt_clf.fit(X_train, y_train)\n",
        "dt_preds = dt_clf.predict(X_test)\n",
        "\n",
        "dt_cm = confusion_matrix(y_test, dt_preds)\n",
        "\n",
        "# Evaluation metrics for Decision Tree\n",
        "dt_metrics = {\n",
        "    \"Model\": \"Decision Tree\",\n",
        "    \"Accuracy\": accuracy_score(y_test, dt_preds),\n",
        "    \"Precision\": precision_score(y_test, dt_preds),\n",
        "    \"Recall\": recall_score(y_test, dt_preds),\n",
        "    \"F1 Score\": f1_score(y_test, dt_preds),\n",
        "    \"AUC\": roc_auc_score(y_test, dt_preds)\n",
        "}\n",
        "\n",
        "print(dt_metrics,\"\\n\",\"Confusion Matrix:\\n\", dt_cm)\n"
      ],
      "metadata": {
        "colab": {
          "base_uri": "https://localhost:8080/"
        },
        "id": "21PWdBg7bncH",
        "outputId": "622beb06-a297-4358-b64a-68765daeb428"
      },
      "execution_count": 3,
      "outputs": [
        {
          "output_type": "stream",
          "name": "stdout",
          "text": [
            "{'Model': 'Decision Tree', 'Accuracy': 0.8270089285714286, 'Precision': 0.812753036437247, 'Recall': 0.865301724137931, 'F1 Score': 0.838204592901879, 'AUC': 0.8255906768837804} \n",
            " Confusion Matrix:\n",
            " [[679 185]\n",
            " [125 803]]\n"
          ]
        }
      ]
    },
    {
      "cell_type": "markdown",
      "source": [
        "# Step 3A - Train and Evaluate a **Vanilla SVM Model**"
      ],
      "metadata": {
        "id": "8rNZbCkAcKJu"
      }
    },
    {
      "cell_type": "code",
      "source": [
        "# Step 3: Build and evaluate the Decision Tree model\n",
        "from sklearn.svm import SVC\n",
        "\n",
        "# Decision Tree\n",
        "svc_clf = SVC(probability=True, random_state=42)\n",
        "svc_clf.fit(X_train, y_train)\n",
        "svc_preds = svc_clf.predict(X_test)\n",
        "\n",
        "svc_cm = confusion_matrix(y_test, svc_preds)\n",
        "\n",
        "# Evaluation metrics for Decision Tree\n",
        "svc_metrics = {\n",
        "    \"Model\": \"Support Vector Machine\",\n",
        "    \"Accuracy\": accuracy_score(y_test, svc_preds),\n",
        "    \"Precision\": precision_score(y_test, svc_preds),\n",
        "    \"Recall\": recall_score(y_test, svc_preds),\n",
        "    \"F1 Score\": f1_score(y_test, svc_preds),\n",
        "    \"AUC\": roc_auc_score(y_test, svc_preds)\n",
        "}\n",
        "\n",
        "print(svc_metrics,\"\\n\",\"Confusion Matrix:\\n\", svc_cm)\n",
        "print(\">>>>>>>>>>>>>There is a change of F1 score from \", dt_metrics['F1 Score'],\" to \",svc_metrics['F1 Score'])"
      ],
      "metadata": {
        "colab": {
          "base_uri": "https://localhost:8080/"
        },
        "id": "RbqAYHcdcME-",
        "outputId": "249ee21b-d4f0-428f-8118-e288681b6e13"
      },
      "execution_count": 4,
      "outputs": [
        {
          "output_type": "stream",
          "name": "stdout",
          "text": [
            "{'Model': 'Support Vector Machine', 'Accuracy': 0.9168526785714286, 'Precision': 0.8837438423645321, 'Recall': 0.9665948275862069, 'F1 Score': 0.923314462171899, 'AUC': 0.9150103767560664} \n",
            " Confusion Matrix:\n",
            " [[746 118]\n",
            " [ 31 897]]\n",
            ">>>>>>>>>>>>>There is a change of F1 score from  0.838204592901879  to  0.923314462171899\n"
          ]
        }
      ]
    },
    {
      "cell_type": "markdown",
      "source": [
        "# Step 3C - Tune and Evaluate a **SVC With Kernel**"
      ],
      "metadata": {
        "id": "XSX_ecZwdTbx"
      }
    },
    {
      "cell_type": "code",
      "source": [
        "# Build and evaluate the Support Vector Machine model with hyperparameter tuning\n",
        "from sklearn.model_selection import GridSearchCV\n",
        "\n",
        "# Define the parameter grid to search\n",
        "param_grid = {\n",
        "    'C': [0.1, 1, 10],  # Regularization parameter\n",
        "    'gamma': [0.1, 0.01],  # Kernel coefficient\n",
        "    'kernel': ['rbf']  # Kernel type\n",
        "}\n",
        "\n",
        "# Initialize the SVM classifier\n",
        "svc_clf = SVC(probability=True,random_state=42)\n",
        "\n",
        "# Perform grid search with 5-fold cross-validation\n",
        "grid_search = GridSearchCV(svc_clf, param_grid, cv=3, scoring='f1', verbose=1)\n",
        "grid_search.fit(X_train, y_train)\n",
        "\n",
        "# Get the best estimator\n",
        "best_svc_clf = grid_search.best_estimator_\n",
        "\n",
        "# Make predictions on the test set\n",
        "tuned_svc_preds = best_svc_clf.predict(X_test)\n",
        "\n",
        "tuned_svc_cm = confusion_matrix(y_test, tuned_svc_preds)\n",
        "\n",
        "# Evaluation metrics for Support Vector Machine\n",
        "tuned_svc_metrics = {\n",
        "    \"Model\": \"Support Vector Machine\",\n",
        "    \"Accuracy\": accuracy_score(y_test, tuned_svc_preds),\n",
        "    \"Precision\": precision_score(y_test, tuned_svc_preds),\n",
        "    \"Recall\": recall_score(y_test, tuned_svc_preds),\n",
        "    \"F1 Score\": f1_score(y_test, tuned_svc_preds),\n",
        "    \"AUC\": roc_auc_score(y_test, tuned_svc_preds)\n",
        "}\n",
        "\n",
        "# Print the best hyperparameters\n",
        "print(\"Best Hyperparameters:\", grid_search.best_params_)\n",
        "print()\n",
        "\n",
        "# Print the evaluation metrics\n",
        "print(\"Evaluation Metrics for Support Vector Machine:\")\n",
        "print(tuned_svc_metrics,\"\\n\",\"Confusion Matrix:\\n\", tuned_svc_cm)\n",
        "\n",
        "#Slightly different way of printing; we are using 'f' in the beginning to directly embed python objects inside a {} within the quote itself instead of separating them using comma\n",
        "print(f\">>>>>>>>>>>>> For {dt_metrics['Model']}, there is a change of F1 score from {dt_metrics['F1 Score']} to {tuned_svc_metrics['F1 Score']} compared to {tuned_svc_metrics['Model']}\")\n"
      ],
      "metadata": {
        "colab": {
          "base_uri": "https://localhost:8080/"
        },
        "id": "RcFKu1ModWGz",
        "outputId": "0f1b28f7-9231-49b6-f174-08dd472c1a44"
      },
      "execution_count": 5,
      "outputs": [
        {
          "output_type": "stream",
          "name": "stdout",
          "text": [
            "Fitting 3 folds for each of 6 candidates, totalling 18 fits\n",
            "Best Hyperparameters: {'C': 10, 'gamma': 0.1, 'kernel': 'rbf'}\n",
            "\n",
            "Evaluation Metrics for Support Vector Machine:\n",
            "{'Model': 'Support Vector Machine', 'Accuracy': 0.9893973214285714, 'Precision': 0.9809523809523809, 'Recall': 0.9989224137931034, 'F1 Score': 0.9898558462359851, 'AUC': 0.9890445402298851} \n",
            " Confusion Matrix:\n",
            " [[846  18]\n",
            " [  1 927]]\n",
            ">>>>>>>>>>>>> For Decision Tree, there is a change of F1 score from 0.838204592901879 to 0.9898558462359851 compared to Support Vector Machine\n"
          ]
        }
      ]
    },
    {
      "cell_type": "markdown",
      "source": [
        "#Compare AUC of Decision Tree, Vanilla SVC without hyperparameter tuning, and SVC with kernel which is tuned"
      ],
      "metadata": {
        "id": "tX0oNoqYix0F"
      }
    },
    {
      "cell_type": "code",
      "source": [
        "import matplotlib.pyplot as plt\n",
        "from sklearn.metrics import roc_curve, auc\n",
        "\n",
        "# Initialize a plot\n",
        "plt.figure(figsize=(10, 6))\n",
        "\n",
        "# Plot ROC curve and calculate AUC for Decision Tree\n",
        "fpr_dt, tpr_dt, _ = roc_curve(y_test, dt_clf.predict_proba(X_test)[:, 1])\n",
        "auc_dt = auc(fpr_dt, tpr_dt)\n",
        "plt.plot(fpr_dt, tpr_dt, label=f'Decision Tree (AUC = {auc_dt:.2f})')\n",
        "\n",
        "# Plot ROC curve and calculate AUC for Decision Tree\n",
        "fpr_svc, tpr_svc, _ = roc_curve(y_test, best_svc_clf.predict_proba(X_test)[:, 1])\n",
        "auc_svc = auc(fpr_svc, tpr_svc)\n",
        "plt.plot(fpr_svc, tpr_svc, label=f'Tuned SVC with Kernel (AUC = {auc_svc:.2f})')\n",
        "\n",
        "\n",
        "# Add labels and legend\n",
        "plt.xlabel('False Positive Rate')\n",
        "plt.ylabel('True Positive Rate')\n",
        "plt.title('Receiver Operating Characteristic (ROC) Curve')\n",
        "plt.legend(loc='lower right')\n",
        "\n",
        "# Show the plot\n",
        "plt.grid(True)\n",
        "plt.show()\n"
      ],
      "metadata": {
        "colab": {
          "base_uri": "https://localhost:8080/",
          "height": 564
        },
        "id": "B9upEjW9izHO",
        "outputId": "5894663e-8ef2-43a5-f07f-377c6bb8b2ab"
      },
      "execution_count": 6,
      "outputs": [
        {
          "output_type": "display_data",
          "data": {
            "text/plain": [
              "<Figure size 1000x600 with 1 Axes>"
            ],
            "image/png": "[encoded data removed]"
          },
          "metadata": {}
        }
      ]
    },
    {
      "cell_type": "markdown",
      "source": [],
      "metadata": {
        "id": "14n4SSo2verk"
      }
    },
    {
      "cell_type": "code",
      "source": [
        "# Combine all metrics into a DataFrame for easy comparison\n",
        "import pandas as pd\n",
        "results_df = pd.DataFrame([dt_metrics, svc_metrics, tuned_svc_metrics])\n",
        "results_df"
      ],
      "metadata": {
        "colab": {
          "base_uri": "https://localhost:8080/",
          "height": 144
        },
        "id": "QTXkWxELve2z",
        "outputId": "0ffefe25-ca3f-4cef-c5e1-388b3bfd4269"
      },
      "execution_count": 8,
      "outputs": [
        {
          "output_type": "execute_result",
          "data": {
            "text/plain": [
              "                    Model  Accuracy  Precision    Recall  F1 Score       AUC\n",
              "0           Decision Tree  0.827009   0.812753  0.865302  0.838205  0.825591\n",
              "1  Support Vector Machine  0.916853   0.883744  0.966595  0.923314  0.915010\n",
              "2  Support Vector Machine  0.989397   0.980952  0.998922  0.989856  0.989045"
            ],
            "text/html": [
              "\n",
              "  <div id=\"df-bc53d73f-92ea-414d-b171-0703f5f29831\" class=\"colab-df-container\">\n",
              "    <div>\n",
              "<style scoped>\n",
              "    .dataframe tbody tr th:only-of-type {\n",
              "        vertical-align: middle;\n",
              "    }\n",
              "\n",
              "    .dataframe tbody tr th {\n",
              "        vertical-align: top;\n",
              "    }\n",
              "\n",
              "    .dataframe thead th {\n",
              "        text-align: right;\n",
              "    }\n",
              "</style>\n",
              "<table border=\"1\" class=\"dataframe\">\n",
              "  <thead>\n",
              "    <tr style=\"text-align: right;\">\n",
              "      <th></th>\n",
              "      <th>Model</th>\n",
              "      <th>Accuracy</th>\n",
              "      <th>Precision</th>\n",
              "      <th>Recall</th>\n",
              "      <th>F1 Score</th>\n",
              "      <th>AUC</th>\n",
              "    </tr>\n",
              "  </thead>\n",
              "  <tbody>\n",
              "    <tr>\n",
              "      <th>0</th>\n",
              "      <td>Decision Tree</td>\n",
              "      <td>0.827009</td>\n",
              "      <td>0.812753</td>\n",
              "      <td>0.865302</td>\n",
              "      <td>0.838205</td>\n",
              "      <td>0.825591</td>\n",
              "    </tr>\n",
              "    <tr>\n",
              "      <th>1</th>\n",
              "      <td>Support Vector Machine</td>\n",
              "      <td>0.916853</td>\n",
              "      <td>0.883744</td>\n",
              "      <td>0.966595</td>\n",
              "      <td>0.923314</td>\n",
              "      <td>0.915010</td>\n",
              "    </tr>\n",
              "    <tr>\n",
              "      <th>2</th>\n",
              "      <td>Support Vector Machine</td>\n",
              "      <td>0.989397</td>\n",
              "      <td>0.980952</td>\n",
              "      <td>0.998922</td>\n",
              "      <td>0.989856</td>\n",
              "      <td>0.989045</td>\n",
              "    </tr>\n",
              "  </tbody>\n",
              "</table>\n",
              "</div>\n",
              "    <div class=\"colab-df-buttons\">\n",
              "\n",
              "  <div class=\"colab-df-container\">\n",
              "    <button class=\"colab-df-convert\" onclick=\"convertToInteractive('df-bc53d73f-92ea-414d-b171-0703f5f29831')\"\n",
              "            title=\"Convert this dataframe to an interactive table.\"\n",
              "            style=\"display:none;\">\n",
              "\n",
              "  <svg xmlns=\"http://www.w3.org/2000/svg\" height=\"24px\" viewBox=\"0 -960 960 960\">\n",
              "    <path d=\"M120-120v-720h720v720H120Zm60-500h600v-160H180v160Zm220 220h160v-160H400v160Zm0 220h160v-160H400v160ZM180-400h160v-160H180v160Zm440 0h160v-160H620v160ZM180-180h160v-160H180v160Zm440 0h160v-160H620v160Z\"/>\n",
              "  </svg>\n",
              "    </button>\n",
              "\n",
              "  <style>\n",
              "    .colab-df-container {\n",
              "      display:flex;\n",
              "      gap: 12px;\n",
              "    }\n",
              "\n",
              "    .colab-df-convert {\n",
              "      background-color: #E8F0FE;\n",
              "      border: none;\n",
              "      border-radius: 50%;\n",
              "      cursor: pointer;\n",
              "      display: none;\n",
              "      fill: #1967D2;\n",
              "      height: 32px;\n",
              "      padding: 0 0 0 0;\n",
              "      width: 32px;\n",
              "    }\n",
              "\n",
              "    .colab-df-convert:hover {\n",
              "      background-color: #E2EBFA;\n",
              "      box-shadow: 0px 1px 2px rgba(60, 64, 67, 0.3), 0px 1px 3px 1px rgba(60, 64, 67, 0.15);\n",
              "      fill: #174EA6;\n",
              "    }\n",
              "\n",
              "    .colab-df-buttons div {\n",
              "      margin-bottom: 4px;\n",
              "    }\n",
              "\n",
              "    [theme=dark] .colab-df-convert {\n",
              "      background-color: #3B4455;\n",
              "      fill: #D2E3FC;\n",
              "    }\n",
              "\n",
              "    [theme=dark] .colab-df-convert:hover {\n",
              "      background-color: #434B5C;\n",
              "      box-shadow: 0px 1px 3px 1px rgba(0, 0, 0, 0.15);\n",
              "      filter: drop-shadow(0px 1px 2px rgba(0, 0, 0, 0.3));\n",
              "      fill: #FFFFFF;\n",
              "    }\n",
              "  </style>\n",
              "\n",
              "    <script>\n",
              "      const buttonEl =\n",
              "        document.querySelector('#df-bc53d73f-92ea-414d-b171-0703f5f29831 button.colab-df-convert');\n",
              "      buttonEl.style.display =\n",
              "        google.colab.kernel.accessAllowed ? 'block' : 'none';\n",
              "\n",
              "      async function convertToInteractive(key) {\n",
              "        const element = document.querySelector('#df-bc53d73f-92ea-414d-b171-0703f5f29831');\n",
              "        const dataTable =\n",
              "          await google.colab.kernel.invokeFunction('convertToInteractive',\n",
              "                                                    [key], {});\n",
              "        if (!dataTable) return;\n",
              "\n",
              "        const docLinkHtml = 'Like what you see? Visit the ' +\n",
              "          '<a target=\"_blank\" href=https://colab.research.google.com/notebooks/data_table.ipynb>data table notebook</a>'\n",
              "          + ' to learn more about interactive tables.';\n",
              "        element.innerHTML = '';\n",
              "        dataTable['output_type'] = 'display_data';\n",
              "        await google.colab.output.renderOutput(dataTable, element);\n",
              "        const docLink = document.createElement('div');\n",
              "        docLink.innerHTML = docLinkHtml;\n",
              "        element.appendChild(docLink);\n",
              "      }\n",
              "    </script>\n",
              "  </div>\n",
              "\n",
              "\n",
              "<div id=\"df-61e5bfd3-7808-4a62-97ce-2cf4271d89fd\">\n",
              "  <button class=\"colab-df-quickchart\" onclick=\"quickchart('df-61e5bfd3-7808-4a62-97ce-2cf4271d89fd')\"\n",
              "            title=\"Suggest charts\"\n",
              "            style=\"display:none;\">\n",
              "\n",
              "<svg xmlns=\"http://www.w3.org/2000/svg\" height=\"24px\"viewBox=\"0 0 24 24\"\n",
              "     width=\"24px\">\n",
              "    <g>\n",
              "        <path d=\"M19 3H5c-1.1 0-2 .9-2 2v14c0 1.1.9 2 2 2h14c1.1 0 2-.9 2-2V5c0-1.1-.9-2-2-2zM9 17H7v-7h2v7zm4 0h-2V7h2v10zm4 0h-2v-4h2v4z\"/>\n",
              "    </g>\n",
              "</svg>\n",
              "  </button>\n",
              "\n",
              "<style>\n",
              "  .colab-df-quickchart {\n",
              "      --bg-color: #E8F0FE;\n",
              "      --fill-color: #1967D2;\n",
              "      --hover-bg-color: #E2EBFA;\n",
              "      --hover-fill-color: #174EA6;\n",
              "      --disabled-fill-color: #AAA;\n",
              "      --disabled-bg-color: #DDD;\n",
              "  }\n",
              "\n",
              "  [theme=dark] .colab-df-quickchart {\n",
              "      --bg-color: #3B4455;\n",
              "      --fill-color: #D2E3FC;\n",
              "      --hover-bg-color: #434B5C;\n",
              "      --hover-fill-color: #FFFFFF;\n",
              "      --disabled-bg-color: #3B4455;\n",
              "      --disabled-fill-color: #666;\n",
              "  }\n",
              "\n",
              "  .colab-df-quickchart {\n",
              "    background-color: var(--bg-color);\n",
              "    border: none;\n",
              "    border-radius: 50%;\n",
              "    cursor: pointer;\n",
              "    display: none;\n",
              "    fill: var(--fill-color);\n",
              "    height: 32px;\n",
              "    padding: 0;\n",
              "    width: 32px;\n",
              "  }\n",
              "\n",
              "  .colab-df-quickchart:hover {\n",
              "    background-color: var(--hover-bg-color);\n",
              "    box-shadow: 0 1px 2px rgba(60, 64, 67, 0.3), 0 1px 3px 1px rgba(60, 64, 67, 0.15);\n",
              "    fill: var(--button-hover-fill-color);\n",
              "  }\n",
              "\n",
              "  .colab-df-quickchart-complete:disabled,\n",
              "  .colab-df-quickchart-complete:disabled:hover {\n",
              "    background-color: var(--disabled-bg-color);\n",
              "    fill: var(--disabled-fill-color);\n",
              "    box-shadow: none;\n",
              "  }\n",
              "\n",
              "  .colab-df-spinner {\n",
              "    border: 2px solid var(--fill-color);\n",
              "    border-color: transparent;\n",
              "    border-bottom-color: var(--fill-color);\n",
              "    animation:\n",
              "      spin 1s steps(1) infinite;\n",
              "  }\n",
              "\n",
              "  @keyframes spin {\n",
              "    0% {\n",
              "      border-color: transparent;\n",
              "      border-bottom-color: var(--fill-color);\n",
              "      border-left-color: var(--fill-color);\n",
              "    }\n",
              "    20% {\n",
              "      border-color: transparent;\n",
              "      border-left-color: var(--fill-color);\n",
              "      border-top-color: var(--fill-color);\n",
              "    }\n",
              "    30% {\n",
              "      border-color: transparent;\n",
              "      border-left-color: var(--fill-color);\n",
              "      border-top-color: var(--fill-color);\n",
              "      border-right-color: var(--fill-color);\n",
              "    }\n",
              "    40% {\n",
              "      border-color: transparent;\n",
              "      border-right-color: var(--fill-color);\n",
              "      border-top-color: var(--fill-color);\n",
              "    }\n",
              "    60% {\n",
              "      border-color: transparent;\n",
              "      border-right-color: var(--fill-color);\n",
              "    }\n",
              "    80% {\n",
              "      border-color: transparent;\n",
              "      border-right-color: var(--fill-color);\n",
              "      border-bottom-color: var(--fill-color);\n",
              "    }\n",
              "    90% {\n",
              "      border-color: transparent;\n",
              "      border-bottom-color: var(--fill-color);\n",
              "    }\n",
              "  }\n",
              "</style>\n",
              "\n",
              "  <script>\n",
              "    async function quickchart(key) {\n",
              "      const quickchartButtonEl =\n",
              "        document.querySelector('#' + key + ' button');\n",
              "      quickchartButtonEl.disabled = true;  // To prevent multiple clicks.\n",
              "      quickchartButtonEl.classList.add('colab-df-spinner');\n",
              "      try {\n",
              "        const charts = await google.colab.kernel.invokeFunction(\n",
              "            'suggestCharts', [key], {});\n",
              "      } catch (error) {\n",
              "        console.error('Error during call to suggestCharts:', error);\n",
              "      }\n",
              "      quickchartButtonEl.classList.remove('colab-df-spinner');\n",
              "      quickchartButtonEl.classList.add('colab-df-quickchart-complete');\n",
              "    }\n",
              "    (() => {\n",
              "      let quickchartButtonEl =\n",
              "        document.querySelector('#df-61e5bfd3-7808-4a62-97ce-2cf4271d89fd button');\n",
              "      quickchartButtonEl.style.display =\n",
              "        google.colab.kernel.accessAllowed ? 'block' : 'none';\n",
              "    })();\n",
              "  </script>\n",
              "</div>\n",
              "\n",
              "  <div id=\"id_34acba88-ab3b-417e-998c-02dd7525615c\">\n",
              "    <style>\n",
              "      .colab-df-generate {\n",
              "        background-color: #E8F0FE;\n",
              "        border: none;\n",
              "        border-radius: 50%;\n",
              "        cursor: pointer;\n",
              "        display: none;\n",
              "        fill: #1967D2;\n",
              "        height: 32px;\n",
              "        padding: 0 0 0 0;\n",
              "        width: 32px;\n",
              "      }\n",
              "\n",
              "      .colab-df-generate:hover {\n",
              "        background-color: #E2EBFA;\n",
              "        box-shadow: 0px 1px 2px rgba(60, 64, 67, 0.3), 0px 1px 3px 1px rgba(60, 64, 67, 0.15);\n",
              "        fill: #174EA6;\n",
              "      }\n",
              "\n",
              "      [theme=dark] .colab-df-generate {\n",
              "        background-color: #3B4455;\n",
              "        fill: #D2E3FC;\n",
              "      }\n",
              "\n",
              "      [theme=dark] .colab-df-generate:hover {\n",
              "        background-color: #434B5C;\n",
              "        box-shadow: 0px 1px 3px 1px rgba(0, 0, 0, 0.15);\n",
              "        filter: drop-shadow(0px 1px 2px rgba(0, 0, 0, 0.3));\n",
              "        fill: #FFFFFF;\n",
              "      }\n",
              "    </style>\n",
              "    <button class=\"colab-df-generate\" onclick=\"generateWithVariable('results_df')\"\n",
              "            title=\"Generate code using this dataframe.\"\n",
              "            style=\"display:none;\">\n",
              "\n",
              "  <svg xmlns=\"http://www.w3.org/2000/svg\" height=\"24px\"viewBox=\"0 0 24 24\"\n",
              "       width=\"24px\">\n",
              "    <path d=\"M7,19H8.4L18.45,9,17,7.55,7,17.6ZM5,21V16.75L18.45,3.32a2,2,0,0,1,2.83,0l1.4,1.43a1.91,1.91,0,0,1,.58,1.4,1.91,1.91,0,0,1-.58,1.4L9.25,21ZM18.45,9,17,7.55Zm-12,3A5.31,5.31,0,0,0,4.9,8.1,5.31,5.31,0,0,0,1,6.5,5.31,5.31,0,0,0,4.9,4.9,5.31,5.31,0,0,0,6.5,1,5.31,5.31,0,0,0,8.1,4.9,5.31,5.31,0,0,0,12,6.5,5.46,5.46,0,0,0,6.5,12Z\"/>\n",
              "  </svg>\n",
              "    </button>\n",
              "    <script>\n",
              "      (() => {\n",
              "      const buttonEl =\n",
              "        document.querySelector('#id_34acba88-ab3b-417e-998c-02dd7525615c button.colab-df-generate');\n",
              "      buttonEl.style.display =\n",
              "        google.colab.kernel.accessAllowed ? 'block' : 'none';\n",
              "\n",
              "      buttonEl.onclick = () => {\n",
              "        google.colab.notebook.generateWithVariable('results_df');\n",
              "      }\n",
              "      })();\n",
              "    </script>\n",
              "  </div>\n",
              "\n",
              "    </div>\n",
              "  </div>\n"
            ],
            "application/vnd.google.colaboratory.intrinsic+json": {
              "type": "dataframe",
              "variable_name": "results_df",
              "summary": "{\n  \"name\": \"results_df\",\n  \"rows\": 3,\n  \"fields\": [\n    {\n      \"column\": \"Model\",\n      \"properties\": {\n        \"dtype\": \"string\",\n        \"num_unique_values\": 2,\n        \"samples\": [\n          \"Support Vector Machine\",\n          \"Decision Tree\"\n        ],\n        \"semantic_type\": \"\",\n        \"description\": \"\"\n      }\n    },\n    {\n      \"column\": \"Accuracy\",\n      \"properties\": {\n        \"dtype\": \"number\",\n        \"std\": 0.0813476231532086,\n        \"min\": 0.8270089285714286,\n        \"max\": 0.9893973214285714,\n        \"num_unique_values\": 3,\n        \"samples\": [\n          0.8270089285714286,\n          0.9168526785714286\n        ],\n        \"semantic_type\": \"\",\n        \"description\": \"\"\n      }\n    },\n    {\n      \"column\": \"Precision\",\n      \"properties\": {\n        \"dtype\": \"number\",\n        \"std\": 0.08443953852304764,\n        \"min\": 0.812753036437247,\n        \"max\": 0.9809523809523809,\n        \"num_unique_values\": 3,\n        \"samples\": [\n          0.812753036437247,\n          0.8837438423645321\n        ],\n        \"semantic_type\": \"\",\n        \"description\": \"\"\n      }\n    },\n    {\n      \"column\": \"Recall\",\n      \"properties\": {\n        \"dtype\": \"number\",\n        \"std\": 0.06971352611470187,\n        \"min\": 0.865301724137931,\n        \"max\": 0.9989224137931034,\n        \"num_unique_values\": 3,\n        \"samples\": [\n          0.865301724137931,\n          0.9665948275862069\n        ],\n        \"semantic_type\": \"\",\n        \"description\": \"\"\n      }\n    },\n    {\n      \"column\": \"F1 Score\",\n      \"properties\": {\n        \"dtype\": \"number\",\n        \"std\": 0.0760148541165139,\n        \"min\": 0.838204592901879,\n        \"max\": 0.9898558462359851,\n        \"num_unique_values\": 3,\n        \"samples\": [\n          0.838204592901879,\n          0.923314462171899\n        ],\n        \"semantic_type\": \"\",\n        \"description\": \"\"\n      }\n    },\n    {\n      \"column\": \"AUC\",\n      \"properties\": {\n        \"dtype\": \"number\",\n        \"std\": 0.08184752646362714,\n        \"min\": 0.8255906768837804,\n        \"max\": 0.9890445402298851,\n        \"num_unique_values\": 3,\n        \"samples\": [\n          0.8255906768837804,\n          0.9150103767560664\n        ],\n        \"semantic_type\": \"\",\n        \"description\": \"\"\n      }\n    }\n  ]\n}"
            }
          },
          "metadata": {},
          "execution_count": 8
        }
      ]
    },
    {
      "cell_type": "markdown",
      "source": [
        "#Class Experiment\n",
        "Experiment with the above 2 blocks of code; i.e. vanilla SVC and tuned SVC and see for yourself how adding complexity to the dataset impact on the performance of the model. To make the dataset harder to train, you can adjust the class_sep parameter in the make_classification function to decrease the separation between classes. Additionally, you can increase the number of samples and features to make the dataset more complex.\n",
        "\n",
        "make_classification(n_samples=8000, n_features=30,class_sep=0.001, n_classes=2, weights=[0.9, 0.1], random_state=42)"
      ],
      "metadata": {
        "id": "nNTEI8jJfZzm"
      }
    },
    {
      "cell_type": "code",
      "source": [
        "from IPython.display import Image\n",
        "\n",
        "# URL of the image\n",
        "image_url = \"https://images.shiksha.com/mediadata/ugcDocuments/images/wordpressImages/2022_11_MicrosoftTeams-image-17.jpg\"\n",
        "\n",
        "# Display the image\n",
        "Image(url=image_url)"
      ],
      "metadata": {
        "colab": {
          "base_uri": "https://localhost:8080/",
          "height": 652
        },
        "id": "NHyurERchjG2",
        "outputId": "93de2c86-1d47-4af8-84fd-4e11d551e245"
      },
      "execution_count": 9,
      "outputs": [
        {
          "output_type": "execute_result",
          "data": {
            "text/html": [
              "<img src=\"https://images.shiksha.com/mediadata/ugcDocuments/images/wordpressImages/2022_11_MicrosoftTeams-image-17.jpg\"/>"
            ],
            "text/plain": [
              "<IPython.core.display.Image object>"
            ]
          },
          "metadata": {},
          "execution_count": 9
        }
      ]
    },
    {
      "cell_type": "markdown",
      "source": [
        "# Step 3B: Build and evaluate other **ensemble models**\n",
        "\n",
        "First we cleanup the memory and restart the session\n",
        "\n",
        "\n"
      ],
      "metadata": {
        "id": "yXdFzfsybnmj"
      }
    },
    {
      "cell_type": "code",
      "source": [
        "# In Google Colab, we can restart the kernel programmatically using below code. Resetting the kernel is similar to resetting your computer. You will start with a clearn notebook\n",
        "# we restart the kernel to make it simpler to continue and avoid any issue in the code caused by the above blocks of code. It is a good practice!\n",
        "# Restart the kernel\n",
        "import os\n",
        "os.kill(os.getpid(), 9)"
      ],
      "metadata": {
        "id": "0gf_m_tfqpwX"
      },
      "execution_count": null,
      "outputs": []
    },
    {
      "cell_type": "markdown",
      "source": [
        "#Below 1 block of code is a bit of repetition of the first few code blocks in this notebook."
      ],
      "metadata": {
        "id": "QagszhWtvnGK"
      }
    },
    {
      "cell_type": "code",
      "source": [
        "# Step 1: Load dataset and balance the data using SMOTE\n",
        "from sklearn.datasets import make_classification\n",
        "from imblearn.over_sampling import SMOTE\n",
        "from sklearn.metrics import accuracy_score, precision_score, recall_score, f1_score, roc_auc_score, confusion_matrix\n",
        "\n",
        "# Generating a synthetic dataset\n",
        "# class_sep   default=1.0 The factor multiplying the hypercube size. Larger values spread out the clusters/classes and make the classification task easier.\n",
        "# Learning mode about make_classification here https://scikit-learn.org/stable/modules/generated/sklearn.datasets.make_classification.html\n",
        "\n",
        "X, y = make_classification(n_samples=5000, n_features=25,class_sep=0.01, n_classes=2, weights=[0.9, 0.1], random_state=42)\n",
        "\n",
        "# Balancing the dataset using SMOTE\n",
        "smote = SMOTE(random_state=42)\n",
        "X_resampled, y_resampled = smote.fit_resample(X, y)\n",
        "\n",
        "# Step 2: Split the dataset into train and test sets\n",
        "from sklearn.model_selection import train_test_split\n",
        "\n",
        "X_train, X_test, y_train, y_test = train_test_split(X_resampled, y_resampled, test_size=0.2, random_state=42)\n",
        "\n",
        "#Clean memory up to ensure it won't slow down your work!\n",
        "del X_resampled,y_resampled\n",
        "\n",
        "# Step 3: Build and evaluate the Decision Tree model\n",
        "from sklearn.tree import DecisionTreeClassifier\n",
        "\n",
        "# Decision Tree\n",
        "dt_clf = DecisionTreeClassifier(random_state=42)\n",
        "dt_clf.fit(X_train, y_train)\n",
        "dt_preds = dt_clf.predict(X_test)\n",
        "\n",
        "dt_cm = confusion_matrix(y_test, dt_preds)\n",
        "\n",
        "# Evaluation metrics for Decision Tree\n",
        "dt_metrics = {\n",
        "    \"Model\": \"Decision Tree\",\n",
        "    \"Accuracy\": accuracy_score(y_test, dt_preds),\n",
        "    \"Precision\": precision_score(y_test, dt_preds),\n",
        "    \"Recall\": recall_score(y_test, dt_preds),\n",
        "    \"F1 Score\": f1_score(y_test, dt_preds),\n",
        "    \"AUC\": roc_auc_score(y_test, dt_preds)\n",
        "}\n",
        "\n",
        "print(dt_metrics,\"\\n\",\"Confusion Matrix:\\n\", dt_cm)"
      ],
      "metadata": {
        "id": "D6u8O4UMqkYN"
      },
      "execution_count": null,
      "outputs": []
    },
    {
      "cell_type": "markdown",
      "source": [
        "# Build and evaluate Random Forest ensemble model\n"
      ],
      "metadata": {
        "id": "LUmcIKVfs8es"
      }
    },
    {
      "cell_type": "code",
      "source": [
        "# Build and evaluate other ensemble models individually\n",
        "from sklearn.ensemble import RandomForestClassifier, ExtraTreesClassifier, VotingClassifier, BaggingClassifier, AdaBoostClassifier, GradientBoostingClassifier\n",
        "\n",
        "# Random Forest\n",
        "rf_clf = RandomForestClassifier(random_state=42)\n",
        "rf_clf.fit(X_train, y_train)\n",
        "rf_preds = rf_clf.predict(X_test)\n",
        "\n",
        "rf_cm = confusion_matrix(y_test, rf_preds)\n",
        "\n",
        "# Evaluation metrics for Random Forest\n",
        "rf_metrics = {\n",
        "    \"Model\": \"Random Forest\",\n",
        "    \"Accuracy\": accuracy_score(y_test, rf_preds),\n",
        "    \"Precision\": precision_score(y_test, rf_preds),\n",
        "    \"Recall\": recall_score(y_test, rf_preds),\n",
        "    \"F1 Score\": f1_score(y_test, rf_preds),\n",
        "    \"AUC\": roc_auc_score(y_test, rf_preds)\n",
        "}\n",
        "print(rf_metrics,\"\\n\",\"Confusion Matrix:\\n\", rf_cm)\n",
        "\n",
        "print(f\">>>>>>>>>>>>> For {dt_metrics['Model']}, there is a change of F1 score from {round(dt_metrics['F1 Score'],2)} to {round(rf_metrics['F1 Score'],2)} compared to {rf_metrics['Model']} \")\n",
        "\n",
        "# Please note that in this code, we haven't yet tuned the Random Forest. Tuning it, further improve the\n",
        "# performance of the model. But, simply changing decision tree to random forest made a siginificant change in performance"
      ],
      "metadata": {
        "id": "hf-2TUTPbnux"
      },
      "execution_count": null,
      "outputs": []
    },
    {
      "cell_type": "markdown",
      "source": [
        "# Build and evaluate Extra Tree ensemble model\n"
      ],
      "metadata": {
        "id": "oqXAgmzGv1j5"
      }
    },
    {
      "cell_type": "code",
      "source": [
        "import pandas as pd\n",
        "\n",
        "# Extra Trees\n",
        "et_clf = ExtraTreesClassifier(random_state=42)\n",
        "et_clf.fit(X_train, y_train)\n",
        "et_preds = et_clf.predict(X_test)\n",
        "\n",
        "et_cm = confusion_matrix(y_test, et_preds)\n",
        "\n",
        "# Evaluation metrics for Extra Trees\n",
        "et_metrics = {\n",
        "    \"Model\": \"Extra Trees\",\n",
        "    \"Accuracy\": accuracy_score(y_test, et_preds),\n",
        "    \"Precision\": precision_score(y_test, et_preds),\n",
        "    \"Recall\": recall_score(y_test, et_preds),\n",
        "    \"F1 Score\": f1_score(y_test, et_preds),\n",
        "    \"AUC\": roc_auc_score(y_test, et_preds)\n",
        "}\n",
        "\n",
        "print(et_metrics,\"\\n\",\"Confusion Matrix:\\n\", et_cm)\n",
        "\n",
        "print(f\">>>>>>>>>>>>> For {dt_metrics['Model']}, there is a change of F1 score from {round(dt_metrics['F1 Score'],2)} to {round(et_metrics['F1 Score'],2)} compared to {et_metrics['Model']} \")\n",
        "\n"
      ],
      "metadata": {
        "id": "buZi5apRauHC"
      },
      "execution_count": null,
      "outputs": []
    },
    {
      "cell_type": "markdown",
      "source": [
        "# Build and evaluate Adaboost ensemble model\n",
        "\n"
      ],
      "metadata": {
        "id": "0s4ElKt6wFBO"
      }
    },
    {
      "cell_type": "code",
      "source": [
        "from sklearn.ensemble import AdaBoostClassifier\n",
        "# AdaBoost\n",
        "adaboost_clf = AdaBoostClassifier(random_state=42)\n",
        "adaboost_clf.fit(X_train, y_train)\n",
        "adaboost_preds = adaboost_clf.predict(X_test)\n",
        "\n",
        "adaboost_cm = confusion_matrix(y_test, adaboost_preds)\n",
        "\n",
        "# Evaluation metrics for AdaBoost\n",
        "adaboost_metrics = {\n",
        "    \"Model\": \"AdaBoost\",\n",
        "    \"Accuracy\": accuracy_score(y_test, adaboost_preds),\n",
        "    \"Precision\": precision_score(y_test, adaboost_preds),\n",
        "    \"Recall\": recall_score(y_test, adaboost_preds),\n",
        "    \"F1 Score\": f1_score(y_test, adaboost_preds),\n",
        "    \"AUC\": roc_auc_score(y_test, adaboost_preds)\n",
        "}\n",
        "\n",
        "print(adaboost_metrics,\"\\n\",\"Confusion Matrix:\\n\", adaboost_cm)\n",
        "\n",
        "print(f\">>>>>>>>>>>>> For {dt_metrics['Model']}, there is a change of F1 score from {round(dt_metrics['F1 Score'],2)} to {round(adaboost_metrics['F1 Score'],2)} compared to {adaboost_metrics['Model']} \")"
      ],
      "metadata": {
        "id": "wQLSnJWJwJFj"
      },
      "execution_count": null,
      "outputs": []
    },
    {
      "cell_type": "markdown",
      "source": [
        "# Build and evaluate XGBoost ensemble model\n"
      ],
      "metadata": {
        "id": "9q-5wq5YwCUD"
      }
    },
    {
      "cell_type": "code",
      "source": [
        "from xgboost import XGBClassifier\n",
        "from sklearn.metrics import confusion_matrix, accuracy_score, precision_score, recall_score, f1_score, roc_auc_score\n",
        "\n",
        "# XGBoost\n",
        "xgb_clf = XGBClassifier(random_state=42)\n",
        "xgb_clf.fit(X_train, y_train)\n",
        "xgb_preds = xgb_clf.predict(X_test)\n",
        "\n",
        "xgb_cm = confusion_matrix(y_test, xgb_preds)\n",
        "\n",
        "# Evaluation metrics for XGBoost\n",
        "xgb_metrics = {\n",
        "    \"Model\": \"XGBoost\",\n",
        "    \"Accuracy\": accuracy_score(y_test, xgb_preds),\n",
        "    \"Precision\": precision_score(y_test, xgb_preds),\n",
        "    \"Recall\": recall_score(y_test, xgb_preds),\n",
        "    \"F1 Score\": f1_score(y_test, xgb_preds),\n",
        "    \"AUC\": roc_auc_score(y_test, xgb_preds)\n",
        "}\n",
        "\n",
        "print(xgb_metrics,\"\\n\",\"Confusion Matrix:\\n\", xgb_cm)\n",
        "\n",
        "print(f\">>>>>>>>>>>>> For {dt_metrics['Model']}, there is a change of F1 score from {round(dt_metrics['F1 Score'],2)} to {round(xgb_metrics['F1 Score'],2)} compared to {xgb_metrics['Model']} \")\n"
      ],
      "metadata": {
        "id": "2kUX4ED_weJV"
      },
      "execution_count": null,
      "outputs": []
    },
    {
      "cell_type": "markdown",
      "source": [
        "# Compare Decision Tree, Random Forest,  Extra Tree, Adaboost, and XGboost"
      ],
      "metadata": {
        "id": "1M5ynK1hvVcY"
      }
    },
    {
      "cell_type": "code",
      "source": [
        "# Create a DataFrame with evaluation metrics for all models\n",
        "results_df = pd.DataFrame([dt_metrics, rf_metrics, et_metrics, adaboost_metrics, xgb_metrics])\n",
        "\n",
        "# Highlight the highest values in each column\n",
        "highlighted_df = results_df.style.highlight_max(axis=0,subset=['Accuracy','Precision','Recall','F1 Score','AUC'])\n",
        "\n",
        "# Display the highlighted DataFrame\n",
        "highlighted_df\n"
      ],
      "metadata": {
        "id": "X3XSq9OwxPPa"
      },
      "execution_count": null,
      "outputs": []
    },
    {
      "cell_type": "markdown",
      "source": [
        "#Question for learners:\n",
        "\n",
        "- What do you observe? Summarize your findings\n",
        "- Why do see changes in performance? Discuss it in the class."
      ],
      "metadata": {
        "id": "KMl23I3Ez99w"
      }
    }
  ]
}